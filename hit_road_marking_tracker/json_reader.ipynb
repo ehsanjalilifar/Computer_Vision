{
 "cells": [
  {
   "cell_type": "code",
   "execution_count": 27,
   "metadata": {},
   "outputs": [],
   "source": [
    "import os\n",
    "import json\n",
    "import pandas as pd\n",
    "import csv\n"
   ]
  },
  {
   "cell_type": "code",
   "execution_count": 34,
   "metadata": {},
   "outputs": [],
   "source": [
    "# \n",
    "inputfile = 'ntta_entry_round2_lines'\n",
    "#\n",
    "\n",
    "file_path = os.path.join(os.getcwd(), f'input_files/JSON/{inputfile}.json')\n",
    "with open(file_path, 'r') as f:\n",
    "    data = json.load(f)\n",
    "\n",
    "with open(f'{inputfile}.csv', 'w', newline='') as f:\n",
    "    writer = csv.writer(f)\n",
    "    writer.writerow(['filename', 'label', 'polygon'])\n",
    "    for record in data:\n",
    "        filename = record['image'].split('/')[-1].split('-')[-1][:-4] # extract name of the image used for the drawings\n",
    "        # print(filename)\n",
    "        for annotation in record['label']:\n",
    "            label = annotation['polygonlabels'][0] # assigned label to the polygon one of ['lane1', 'lane2', 'shoulder1', 'shoulder2']\n",
    "            # print(label)\n",
    "            # Reformat the polygon points to be readable by the main code. A string where points are separated by ';' and x,y for each point are separated by ','.\n",
    "            polygon = ''\n",
    "            for point in annotation['points']:\n",
    "                polygon += f'{point[0]},{point[1]};'\n",
    "            polygon = polygon[:-1] # remove the extra ';' at the end of the string.\n",
    "            writer.writerow([filename, label, polygon])\n",
    "            # print(polygon)\n",
    "            # break\n",
    "        # break\n"
   ]
  }
 ],
 "metadata": {
  "kernelspec": {
   "display_name": "cv_venv",
   "language": "python",
   "name": "python3"
  },
  "language_info": {
   "codemirror_mode": {
    "name": "ipython",
    "version": 3
   },
   "file_extension": ".py",
   "mimetype": "text/x-python",
   "name": "python",
   "nbconvert_exporter": "python",
   "pygments_lexer": "ipython3",
   "version": "3.12.8"
  }
 },
 "nbformat": 4,
 "nbformat_minor": 2
}
