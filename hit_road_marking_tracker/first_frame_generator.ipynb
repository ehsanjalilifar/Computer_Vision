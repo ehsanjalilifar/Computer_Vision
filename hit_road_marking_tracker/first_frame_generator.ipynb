{
 "cells": [
  {
   "cell_type": "code",
   "execution_count": 1,
   "metadata": {},
   "outputs": [],
   "source": [
    "import os\n",
    "import cv2"
   ]
  },
  {
   "cell_type": "code",
   "execution_count": 4,
   "metadata": {},
   "outputs": [
    {
     "name": "stdout",
     "output_type": "stream",
     "text": [
      "First frames saved successfully!\n"
     ]
    }
   ],
   "source": [
    "# Define input and output folder paths\n",
    "master_video_folder = r\"D:/NTTA Orange Markings New Trailer 1 Videos - Oct 2024/20240930_175606_29FC_B8A44F76828B\"\n",
    "output_folder = os.path.join(os.getcwd(), 'input_files/Photos/batch')\n",
    "\n",
    "# Ensure output folder exists\n",
    "os.makedirs(output_folder, exist_ok=True)\n",
    "\n",
    "for subfolder in os.listdir(master_video_folder):\n",
    "    video_folder = os.path.join(master_video_folder, subfolder)\n",
    "    if os.path.isdir(video_folder):  # Ensure it's a folder\n",
    "        video_files = [f for f in os.listdir(video_folder) if f.endswith(('.mp4', '.avi', '.mov', '.mkv'))]\n",
    "        for video_file in video_files:\n",
    "            video_path = os.path.join(video_folder, video_file)\n",
    "            \n",
    "            # Capture the first frame\n",
    "            cap = cv2.VideoCapture(video_path)\n",
    "            success, frame = cap.read()\n",
    "            \n",
    "            if success:\n",
    "                # Save frame as PNG\n",
    "                output_filename = \"frame_zero_\" + os.path.splitext(video_file)[0] + \".png\"\n",
    "                output_path = os.path.join(output_folder, output_filename)\n",
    "                cv2.imwrite(output_path, frame)\n",
    "            \n",
    "            cap.release()\n",
    "\n",
    "print(\"First frames saved successfully!\")\n"
   ]
  }
 ],
 "metadata": {
  "kernelspec": {
   "display_name": "cv_venv",
   "language": "python",
   "name": "python3"
  },
  "language_info": {
   "codemirror_mode": {
    "name": "ipython",
    "version": 3
   },
   "file_extension": ".py",
   "mimetype": "text/x-python",
   "name": "python",
   "nbconvert_exporter": "python",
   "pygments_lexer": "ipython3",
   "version": "3.12.8"
  }
 },
 "nbformat": 4,
 "nbformat_minor": 2
}
